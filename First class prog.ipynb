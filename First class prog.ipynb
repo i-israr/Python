{
 "cells": [
  {
   "cell_type": "code",
   "execution_count": 8,
   "metadata": {
    "collapsed": false
   },
   "outputs": [
    {
     "name": "stdout",
     "output_type": "stream",
     "text": [
      "Israr ul haq\n",
      "\n",
      "PIAIC Islamabad\n",
      "Registration no : 1712202 \n",
      "Name: Israr ul haq\n",
      "Father: Muahmamnd Riaz\n",
      "University: SZABIST\n",
      "\n"
     ]
    }
   ],
   "source": [
    "print(\"Israr ul haq\")#simple print command\n",
    "\n",
    "\n",
    "#string and integer data types\n",
    "Reg_no = 1712202\n",
    "name = \"Israr ul haq\"\n",
    "father_name = \"Muahmamnd Riaz\"\n",
    "university = \"SZABIST\"\n",
    "\n",
    "\n",
    "#now the upper veriables can be used further in the program e.g we can initilize a variable with multiple lines\n",
    "message =\"\"\"\n",
    "PIAIC Islamabad\n",
    "Registration no : {} \n",
    "Name: {}\n",
    "Father: {}\n",
    "University: {}\n",
    "\"\"\".format(Reg_no,name,father_name,university)\n",
    "#.formate is the predefined function which initilize the valuse in the sequence accourding to the {}\n",
    "print(message)"
   ]
  }
 ],
 "metadata": {
  "kernelspec": {
   "display_name": "Python 3",
   "language": "python",
   "name": "python3"
  },
  "language_info": {
   "codemirror_mode": {
    "name": "ipython",
    "version": 3
   },
   "file_extension": ".py",
   "mimetype": "text/x-python",
   "name": "python",
   "nbconvert_exporter": "python",
   "pygments_lexer": "ipython3",
   "version": "3.6.0"
  }
 },
 "nbformat": 4,
 "nbformat_minor": 2
}
