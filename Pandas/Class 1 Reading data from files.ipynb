{
 "cells": [
  {
   "cell_type": "code",
   "execution_count": 2,
   "metadata": {
    "collapsed": false
   },
   "outputs": [],
   "source": [
    "import numpy as np #limitation-> work on two dimentional array, data type of the array will be same  \n",
    "import pandas as pd\n",
    "import matplotlib.pyplot as plt"
   ]
  },
  {
   "cell_type": "raw",
   "metadata": {},
   "source": [
    "# In pandas one colum is called series and the whole table is called data frame\n",
    "# table  -> DataFrame \n",
    "# column -> SeriesData"
   ]
  },
  {
   "cell_type": "code",
   "execution_count": 8,
   "metadata": {
    "collapsed": false
   },
   "outputs": [
    {
     "data": {
      "text/plain": [
       "[                              0                 1        2\n",
       " 0                       Company           Contact  Country\n",
       " 1           Alfreds Futterkiste      Maria Anders  Germany\n",
       " 2    Centro comercial Moctezuma   Francisco Chang   Mexico\n",
       " 3                  Ernst Handel     Roland Mendel  Austria\n",
       " 4                Island Trading     Helen Bennett       UK\n",
       " 5  Laughing Bacchus Winecellars   Yoshi Tannamuri   Canada\n",
       " 6  Magazzini Alimentari Riuniti  Giovanni Rovelli    Italy,\n",
       "              0                                                  1\n",
       " 0          Tag                                        Description\n",
       " 1      <table>                                    Defines a table\n",
       " 2         <th>                   Defines a header cell in a table\n",
       " 3         <tr>                           Defines a row in a table\n",
       " 4         <td>                          Defines a cell in a table\n",
       " 5    <caption>                            Defines a table caption\n",
       " 6   <colgroup>  Specifies a group of one or more columns in a ...\n",
       " 7        <col>  Specifies column properties for each column wi...\n",
       " 8      <thead>               Groups the header content in a table\n",
       " 9      <tbody>                 Groups the body content in a table\n",
       " 10     <tfoot>               Groups the footer content in a table]"
      ]
     },
     "execution_count": 8,
     "metadata": {},
     "output_type": "execute_result"
    }
   ],
   "source": [
    "df = pd.read_html(\"https://www.w3schools.com/html/html_tables.asp\")\n",
    "df"
   ]
  },
  {
   "cell_type": "code",
   "execution_count": 9,
   "metadata": {
    "collapsed": false
   },
   "outputs": [
    {
     "data": {
      "text/html": [
       "<div>\n",
       "<table border=\"1\" class=\"dataframe\">\n",
       "  <thead>\n",
       "    <tr style=\"text-align: right;\">\n",
       "      <th></th>\n",
       "      <th>0</th>\n",
       "      <th>1</th>\n",
       "    </tr>\n",
       "  </thead>\n",
       "  <tbody>\n",
       "    <tr>\n",
       "      <th>0</th>\n",
       "      <td>Tag</td>\n",
       "      <td>Description</td>\n",
       "    </tr>\n",
       "    <tr>\n",
       "      <th>1</th>\n",
       "      <td>&lt;table&gt;</td>\n",
       "      <td>Defines a table</td>\n",
       "    </tr>\n",
       "    <tr>\n",
       "      <th>2</th>\n",
       "      <td>&lt;th&gt;</td>\n",
       "      <td>Defines a header cell in a table</td>\n",
       "    </tr>\n",
       "    <tr>\n",
       "      <th>3</th>\n",
       "      <td>&lt;tr&gt;</td>\n",
       "      <td>Defines a row in a table</td>\n",
       "    </tr>\n",
       "    <tr>\n",
       "      <th>4</th>\n",
       "      <td>&lt;td&gt;</td>\n",
       "      <td>Defines a cell in a table</td>\n",
       "    </tr>\n",
       "    <tr>\n",
       "      <th>5</th>\n",
       "      <td>&lt;caption&gt;</td>\n",
       "      <td>Defines a table caption</td>\n",
       "    </tr>\n",
       "    <tr>\n",
       "      <th>6</th>\n",
       "      <td>&lt;colgroup&gt;</td>\n",
       "      <td>Specifies a group of one or more columns in a ...</td>\n",
       "    </tr>\n",
       "    <tr>\n",
       "      <th>7</th>\n",
       "      <td>&lt;col&gt;</td>\n",
       "      <td>Specifies column properties for each column wi...</td>\n",
       "    </tr>\n",
       "    <tr>\n",
       "      <th>8</th>\n",
       "      <td>&lt;thead&gt;</td>\n",
       "      <td>Groups the header content in a table</td>\n",
       "    </tr>\n",
       "    <tr>\n",
       "      <th>9</th>\n",
       "      <td>&lt;tbody&gt;</td>\n",
       "      <td>Groups the body content in a table</td>\n",
       "    </tr>\n",
       "    <tr>\n",
       "      <th>10</th>\n",
       "      <td>&lt;tfoot&gt;</td>\n",
       "      <td>Groups the footer content in a table</td>\n",
       "    </tr>\n",
       "  </tbody>\n",
       "</table>\n",
       "</div>"
      ],
      "text/plain": [
       "             0                                                  1\n",
       "0          Tag                                        Description\n",
       "1      <table>                                    Defines a table\n",
       "2         <th>                   Defines a header cell in a table\n",
       "3         <tr>                           Defines a row in a table\n",
       "4         <td>                          Defines a cell in a table\n",
       "5    <caption>                            Defines a table caption\n",
       "6   <colgroup>  Specifies a group of one or more columns in a ...\n",
       "7        <col>  Specifies column properties for each column wi...\n",
       "8      <thead>               Groups the header content in a table\n",
       "9      <tbody>                 Groups the body content in a table\n",
       "10     <tfoot>               Groups the footer content in a table"
      ]
     },
     "execution_count": 9,
     "metadata": {},
     "output_type": "execute_result"
    }
   ],
   "source": [
    "df = pd.read_html(\"https://www.w3schools.com/html/html_tables.asp\")\n",
    "df[1]"
   ]
  },
  {
   "cell_type": "markdown",
   "metadata": {
    "collapsed": false
   },
   "source": [
    "# Json"
   ]
  },
  {
   "cell_type": "code",
   "execution_count": 13,
   "metadata": {
    "collapsed": false
   },
   "outputs": [
    {
     "data": {
      "text/html": [
       "<div>\n",
       "<table border=\"1\" class=\"dataframe\">\n",
       "  <thead>\n",
       "    <tr style=\"text-align: right;\">\n",
       "      <th></th>\n",
       "      <th>archive_url</th>\n",
       "      <th>archived</th>\n",
       "      <th>assignees_url</th>\n",
       "      <th>blobs_url</th>\n",
       "      <th>branches_url</th>\n",
       "      <th>clone_url</th>\n",
       "      <th>collaborators_url</th>\n",
       "      <th>comments_url</th>\n",
       "      <th>commits_url</th>\n",
       "      <th>compare_url</th>\n",
       "      <th>...</th>\n",
       "      <th>subscribers_url</th>\n",
       "      <th>subscription_url</th>\n",
       "      <th>svn_url</th>\n",
       "      <th>tags_url</th>\n",
       "      <th>teams_url</th>\n",
       "      <th>trees_url</th>\n",
       "      <th>updated_at</th>\n",
       "      <th>url</th>\n",
       "      <th>watchers</th>\n",
       "      <th>watchers_count</th>\n",
       "    </tr>\n",
       "  </thead>\n",
       "  <tbody>\n",
       "    <tr>\n",
       "      <th>0</th>\n",
       "      <td>https://api.github.com/repos/hadley/15-state-o...</td>\n",
       "      <td>False</td>\n",
       "      <td>https://api.github.com/repos/hadley/15-state-o...</td>\n",
       "      <td>https://api.github.com/repos/hadley/15-state-o...</td>\n",
       "      <td>https://api.github.com/repos/hadley/15-state-o...</td>\n",
       "      <td>https://github.com/hadley/15-state-of-the-unio...</td>\n",
       "      <td>https://api.github.com/repos/hadley/15-state-o...</td>\n",
       "      <td>https://api.github.com/repos/hadley/15-state-o...</td>\n",
       "      <td>https://api.github.com/repos/hadley/15-state-o...</td>\n",
       "      <td>https://api.github.com/repos/hadley/15-state-o...</td>\n",
       "      <td>...</td>\n",
       "      <td>https://api.github.com/repos/hadley/15-state-o...</td>\n",
       "      <td>https://api.github.com/repos/hadley/15-state-o...</td>\n",
       "      <td>https://github.com/hadley/15-state-of-the-union</td>\n",
       "      <td>https://api.github.com/repos/hadley/15-state-o...</td>\n",
       "      <td>https://api.github.com/repos/hadley/15-state-o...</td>\n",
       "      <td>https://api.github.com/repos/hadley/15-state-o...</td>\n",
       "      <td>2019-08-18 16:49:32</td>\n",
       "      <td>https://api.github.com/repos/hadley/15-state-o...</td>\n",
       "      <td>23</td>\n",
       "      <td>23</td>\n",
       "    </tr>\n",
       "  </tbody>\n",
       "</table>\n",
       "<p>1 rows × 73 columns</p>\n",
       "</div>"
      ],
      "text/plain": [
       "                                         archive_url archived  \\\n",
       "0  https://api.github.com/repos/hadley/15-state-o...    False   \n",
       "\n",
       "                                       assignees_url  \\\n",
       "0  https://api.github.com/repos/hadley/15-state-o...   \n",
       "\n",
       "                                           blobs_url  \\\n",
       "0  https://api.github.com/repos/hadley/15-state-o...   \n",
       "\n",
       "                                        branches_url  \\\n",
       "0  https://api.github.com/repos/hadley/15-state-o...   \n",
       "\n",
       "                                           clone_url  \\\n",
       "0  https://github.com/hadley/15-state-of-the-unio...   \n",
       "\n",
       "                                   collaborators_url  \\\n",
       "0  https://api.github.com/repos/hadley/15-state-o...   \n",
       "\n",
       "                                        comments_url  \\\n",
       "0  https://api.github.com/repos/hadley/15-state-o...   \n",
       "\n",
       "                                         commits_url  \\\n",
       "0  https://api.github.com/repos/hadley/15-state-o...   \n",
       "\n",
       "                                         compare_url      ...        \\\n",
       "0  https://api.github.com/repos/hadley/15-state-o...      ...         \n",
       "\n",
       "                                     subscribers_url  \\\n",
       "0  https://api.github.com/repos/hadley/15-state-o...   \n",
       "\n",
       "                                    subscription_url  \\\n",
       "0  https://api.github.com/repos/hadley/15-state-o...   \n",
       "\n",
       "                                           svn_url  \\\n",
       "0  https://github.com/hadley/15-state-of-the-union   \n",
       "\n",
       "                                            tags_url  \\\n",
       "0  https://api.github.com/repos/hadley/15-state-o...   \n",
       "\n",
       "                                           teams_url  \\\n",
       "0  https://api.github.com/repos/hadley/15-state-o...   \n",
       "\n",
       "                                           trees_url          updated_at  \\\n",
       "0  https://api.github.com/repos/hadley/15-state-o... 2019-08-18 16:49:32   \n",
       "\n",
       "                                                 url watchers watchers_count  \n",
       "0  https://api.github.com/repos/hadley/15-state-o...       23             23  \n",
       "\n",
       "[1 rows x 73 columns]"
      ]
     },
     "execution_count": 13,
     "metadata": {},
     "output_type": "execute_result"
    }
   ],
   "source": [
    "df = pd.read_json(\"https://api.github.com/users/hadley/repos\")\n",
    "df.head(1)# Defualt 5 rows"
   ]
  },
  {
   "cell_type": "markdown",
   "metadata": {
    "collapsed": true
   },
   "source": [
    "\n",
    "# CSV"
   ]
  },
  {
   "cell_type": "code",
   "execution_count": null,
   "metadata": {
    "collapsed": true
   },
   "outputs": [],
   "source": [
    "df = pd.read_csv(\"./data/abc.csv\")\n",
    "df.head()"
   ]
  },
  {
   "cell_type": "code",
   "execution_count": null,
   "metadata": {
    "collapsed": true
   },
   "outputs": [],
   "source": [
    "df = pd.read_csv(\"./data/abc.csv\", encoding='cp1252')#utf-8\n",
    "df.head()"
   ]
  },
  {
   "cell_type": "code",
   "execution_count": null,
   "metadata": {
    "collapsed": true
   },
   "outputs": [],
   "source": [
    "df = pd.read_csv(\"./data/abc.csv\", encoding='utf-8')#utf-8\n",
    "df.head()"
   ]
  },
  {
   "cell_type": "code",
   "execution_count": null,
   "metadata": {
    "collapsed": true
   },
   "outputs": [],
   "source": [
    "df = pd.read_csv(\"./data/abc.csv\", encoding='cp1252', usecols=[\"C\",\"A\"])#utf-8\n",
    "df.head()"
   ]
  },
  {
   "cell_type": "markdown",
   "metadata": {},
   "source": [
    "# Excel"
   ]
  },
  {
   "cell_type": "code",
   "execution_count": null,
   "metadata": {
    "collapsed": true
   },
   "outputs": [],
   "source": [
    "df1 = pd.read_excel(\"./data/abc.xlsx\")\n",
    "df1"
   ]
  },
  {
   "cell_type": "code",
   "execution_count": null,
   "metadata": {
    "collapsed": true
   },
   "outputs": [],
   "source": [
    "df1 = pd.read_excel(\"./data/abc.xlsx\", sheet_name=0)\n",
    "df1"
   ]
  },
  {
   "cell_type": "code",
   "execution_count": null,
   "metadata": {
    "collapsed": true
   },
   "outputs": [],
   "source": [
    "df1 = pd.read_excel(\"./data/abc.xlsx\", sheet_name=\"Sheet1\")\n",
    "df1"
   ]
  },
  {
   "cell_type": "code",
   "execution_count": null,
   "metadata": {
    "collapsed": true
   },
   "outputs": [],
   "source": []
  },
  {
   "cell_type": "code",
   "execution_count": null,
   "metadata": {
    "collapsed": true
   },
   "outputs": [],
   "source": []
  },
  {
   "cell_type": "code",
   "execution_count": 3,
   "metadata": {
    "collapsed": false
   },
   "outputs": [
    {
     "data": {
      "text/plain": [
       "A    1\n",
       "B    2\n",
       "C    3\n",
       "D    4\n",
       "E    5\n",
       "dtype: int64"
      ]
     },
     "execution_count": 3,
     "metadata": {},
     "output_type": "execute_result"
    }
   ],
   "source": [
    "obj1 = pd.Series([1,2,3,4,5], index=[\"A\",'B',\"C\",\"D\",\"E\"])\n",
    "obj1"
   ]
  },
  {
   "cell_type": "code",
   "execution_count": 4,
   "metadata": {
    "collapsed": false
   },
   "outputs": [
    {
     "data": {
      "text/plain": [
       "CNIC\n",
       "A    1\n",
       "B    2\n",
       "C    3\n",
       "D    4\n",
       "E    5\n",
       "dtype: int64"
      ]
     },
     "execution_count": 4,
     "metadata": {},
     "output_type": "execute_result"
    }
   ],
   "source": [
    "obj1 = pd.Series([1,2,3,4,5], index=[\"A\",'B',\"C\",\"D\",\"E\"])\n",
    "obj1.index.name = \"CNIC\"\n",
    "obj1"
   ]
  },
  {
   "cell_type": "code",
   "execution_count": 5,
   "metadata": {
    "collapsed": false
   },
   "outputs": [
    {
     "data": {
      "text/plain": [
       "A    8\n",
       "D    9\n",
       "Z    3\n",
       "dtype: int64"
      ]
     },
     "execution_count": 5,
     "metadata": {},
     "output_type": "execute_result"
    }
   ],
   "source": [
    "obj2 = pd.Series([8,9,3], index=[\"A\",\"D\",\"Z\"])\n",
    "obj2"
   ]
  },
  {
   "cell_type": "code",
   "execution_count": 6,
   "metadata": {
    "collapsed": false
   },
   "outputs": [
    {
     "name": "stdout",
     "output_type": "stream",
     "text": [
      "CNIC\n",
      "A    1\n",
      "B    2\n",
      "C    3\n",
      "D    4\n",
      "E    5\n",
      "dtype: int64\n",
      "A    8\n",
      "D    9\n",
      "Z    3\n",
      "dtype: int64\n"
     ]
    },
    {
     "data": {
      "text/plain": [
       "A     9.0\n",
       "B     NaN\n",
       "C     NaN\n",
       "D    13.0\n",
       "E     NaN\n",
       "Z     NaN\n",
       "dtype: float64"
      ]
     },
     "execution_count": 6,
     "metadata": {},
     "output_type": "execute_result"
    }
   ],
   "source": [
    "print(obj1,obj2,sep=\"\\n\")\n",
    "obj1 + obj2"
   ]
  },
  {
   "cell_type": "code",
   "execution_count": null,
   "metadata": {
    "collapsed": true
   },
   "outputs": [],
   "source": []
  }
 ],
 "metadata": {
  "kernelspec": {
   "display_name": "Python 3",
   "language": "python",
   "name": "python3"
  },
  "language_info": {
   "codemirror_mode": {
    "name": "ipython",
    "version": 3
   },
   "file_extension": ".py",
   "mimetype": "text/x-python",
   "name": "python",
   "nbconvert_exporter": "python",
   "pygments_lexer": "ipython3",
   "version": "3.6.0"
  }
 },
 "nbformat": 4,
 "nbformat_minor": 2
}
