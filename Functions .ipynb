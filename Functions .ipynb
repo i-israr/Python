{
 "cells": [
  {
   "cell_type": "markdown",
   "metadata": {},
   "source": [
    "# Pre define functions"
   ]
  },
  {
   "cell_type": "code",
   "execution_count": 1,
   "metadata": {
    "collapsed": false
   },
   "outputs": [
    {
     "name": "stdout",
     "output_type": "stream",
     "text": [
      "abc\n",
      "<class 'int'>\n"
     ]
    }
   ],
   "source": [
    "print(\"abc\")\n",
    "print(type(22))"
   ]
  },
  {
   "cell_type": "code",
   "execution_count": 3,
   "metadata": {
    "collapsed": true
   },
   "outputs": [],
   "source": [
    "def printer():\n",
    "    print(\"Pakistan Zinda Bad\")\n",
    "    print(\"We are pakistani\") \n",
    "    print(\"We love our country!\")"
   ]
  },
  {
   "cell_type": "code",
   "execution_count": 4,
   "metadata": {
    "collapsed": false
   },
   "outputs": [
    {
     "name": "stdout",
     "output_type": "stream",
     "text": [
      "Pakistan Zinda Bad\n",
      "We are pakistani\n",
      "We love our country!\n"
     ]
    }
   ],
   "source": [
    "printer()"
   ]
  },
  {
   "cell_type": "markdown",
   "metadata": {},
   "source": [
    "# Arguments"
   ]
  },
  {
   "cell_type": "code",
   "execution_count": 5,
   "metadata": {
    "collapsed": false
   },
   "outputs": [
    {
     "name": "stdout",
     "output_type": "stream",
     "text": [
      "\n",
      "    PIAIC Islamabad\n",
      "    id: 1\n",
      "    Name: Ali\n",
      "    father's Name: Hamza\n",
      "    course:  A.I\n",
      "    timing: 9 to 12\n",
      "    \n",
      "\n",
      "    PIAIC Islamabad\n",
      "    id: 2\n",
      "    Name: Kashif\n",
      "    father's Name: Kamran\n",
      "    course:  Cloud Computing\n",
      "    timing: 3:30 to 6:30\n",
      "    \n"
     ]
    }
   ],
   "source": [
    "def id_card(sid, sname,fname,course, timing):\n",
    "    text = \"\"\"\n",
    "    PIAIC Islamabad\n",
    "    id: {}\n",
    "    Name: {}\n",
    "    father's Name: {}\n",
    "    course:  {}\n",
    "    timing: {}\n",
    "    \"\"\".format(sid,sname,fname,course,timing)\n",
    "    print(text)\n",
    "    \n",
    "id_card(1,\"Ali\",'Hamza','A.I','9 to 12')    \n",
    "id_card(2,\"Kashif\",\"Kamran\",\"Cloud Computing\", \"3:30 to 6:30\")"
   ]
  },
  {
   "cell_type": "code",
   "execution_count": 7,
   "metadata": {
    "collapsed": false
   },
   "outputs": [
    {
     "name": "stdout",
     "output_type": "stream",
     "text": [
      "\n",
      "    PIAIC Islamabad\n",
      "    id: 1\n",
      "    Name: Qasim\n",
      "    father's Name: Aslam\n",
      "    course:  A.I\n",
      "    timing: 9 to 12\n",
      "    \n",
      "\n",
      "    PIAIC Islamabad\n",
      "    id: 2\n",
      "    Name: Hamza\n",
      "    father's Name: Khalid\n",
      "    course:  Cloud\n",
      "    timing: 12:15 to 3:15\n",
      "    \n",
      "\n",
      "    PIAIC Islamabad\n",
      "    id: 3\n",
      "    Name: Rauf\n",
      "    father's Name: Hussain\n",
      "    course:  Quantum Computing\n",
      "    timing: 12AM\n",
      "    \n"
     ]
    }
   ],
   "source": [
    "data =[[1,\"Qasim\",\"Aslam\",\"A.I\",\"9 to 12\"],\n",
    "      [2,\"Hamza\",\"Khalid\",\"Cloud\",\"12:15 to 3:15\"],\n",
    "      [3,\"Rauf\",\"Hussain\",\"Quantum Computing\",\"12AM\"]]\n",
    "\n",
    "for v in data:\n",
    "    id_card(*v)"
   ]
  },
  {
   "cell_type": "markdown",
   "metadata": {},
   "source": [
    "# Return Functions"
   ]
  },
  {
   "cell_type": "code",
   "execution_count": 12,
   "metadata": {
    "collapsed": false
   },
   "outputs": [
    {
     "name": "stdout",
     "output_type": "stream",
     "text": [
      "\n",
      "    PIAIC Islamabad\n",
      "    id: 1\n",
      "    Name: A\n",
      "    father's Name: B\n",
      "    course:  C\n",
      "    timing: D\n",
      "    \n"
     ]
    }
   ],
   "source": [
    "def id_card(sid, sname,fname,course, timing):\n",
    "    text = \"\"\"\n",
    "    PIAIC Islamabad\n",
    "    id: {}\n",
    "    Name: {}\n",
    "    father's Name: {}\n",
    "    course:  {}\n",
    "    timing: {}\n",
    "    \"\"\".format(sid,sname,fname,course,timing)\n",
    "    return text\n",
    "    \n",
    "\n",
    "print(id_card(1,\"A\",\"B\",\"C\",\"D\"))\n"
   ]
  },
  {
   "cell_type": "code",
   "execution_count": null,
   "metadata": {
    "collapsed": true
   },
   "outputs": [],
   "source": []
  }
 ],
 "metadata": {
  "kernelspec": {
   "display_name": "Python 3",
   "language": "python",
   "name": "python3"
  },
  "language_info": {
   "codemirror_mode": {
    "name": "ipython",
    "version": 3
   },
   "file_extension": ".py",
   "mimetype": "text/x-python",
   "name": "python",
   "nbconvert_exporter": "python",
   "pygments_lexer": "ipython3",
   "version": "3.6.0"
  }
 },
 "nbformat": 4,
 "nbformat_minor": 2
}
